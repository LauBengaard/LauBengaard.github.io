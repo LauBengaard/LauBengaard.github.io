{
 "cells": [
  {
   "cell_type": "markdown",
   "metadata": {},
   "source": [
    "# A study of traffic crashes in the city of Tempe, Arizona USA\n",
    "***"
   ]
  },
  {
   "cell_type": "markdown",
   "metadata": {},
   "source": [
    "## Motivation\n",
    "<span style=\"color:red\">\n",
    "\n",
    "- What is your dataset?\n",
    "- Why did you choose this/these particular dataset(s)?\n",
    "- What was your goal for the end user's experience?\n",
    "</span>"
   ]
  },
  {
   "cell_type": "markdown",
   "metadata": {},
   "source": [
    "\n",
    "## Basic stats\n",
    "<span style=\"color:red\">\n",
    "Let's understand the dataset better\n",
    "\n",
    "- Write about your choices in data cleaning and preprocessing\n",
    "- Write a short section that discusses the dataset stats, containing key points/plots from your exploratory data analysis.\n",
    "</span>"
   ]
  },
  {
   "cell_type": "code",
   "execution_count": null,
   "metadata": {},
   "outputs": [],
   "source": [
    "import numpy as np\n",
    "import urllib.request\n",
    "import pandas as pd\n",
    "from scipy import stats\n",
    "import matplotlib.pyplot as plt\n",
    "import calplot\n",
    "import seaborn as sns\n",
    "from datetime import datetime, timedelta\n",
    "import math\n",
    "from math import radians, cos, sin, asin, sqrt\n",
    "\n",
    "import folium\n",
    "\n",
    "from urllib.request import urlopen\n",
    "import json\n",
    "import plotly.express as px\n",
    "\n",
    "# Import libraries to make heatmap\n",
    "from folium import plugins\n",
    "from folium.plugins import HeatMap\n"
   ]
  },
  {
   "cell_type": "code",
   "execution_count": null,
   "metadata": {},
   "outputs": [],
   "source": [
    "# Read data \n",
    "data = pd.read_csv(\"1.08_Crash_Data_Report_(detail).csv\")\n",
    "\n",
    "# subtract 7 hours\n",
    "data['DateTime'] = pd.to_datetime(data['DateTime']) - timedelta(hours=7)\n",
    "\n",
    "# Filter the DataFrame to exclude entries from the year 2024\n",
    "df = data[data['DateTime'].dt.year != 2024] \n",
    "\n",
    "# Filter the DataFrame to exclude entries from the year 2023 incomplete\n",
    "df = data[data['DateTime'].dt.year != 2023] "
   ]
  },
  {
   "cell_type": "markdown",
   "metadata": {},
   "source": [
    "\n",
    "## Data Analysis\n",
    "<span style=\"color:red\">\n",
    "\n",
    "- Describe your data analysis and explain what you've learned about the dataset.\n",
    "- If relevant, talk about your machine-learning.\n",
    "</span>"
   ]
  },
  {
   "cell_type": "markdown",
   "metadata": {},
   "source": [
    "\n",
    "## Genre\n",
    "<span style=\"color:red\">\n",
    "\n",
    "- Which genre of data story did you use?\n",
    "- Which tools did you use from each of the 3 categories of Visual Narrative (Figure 7 in Segal and Heer). Why?\n",
    "- Which tools did you use from each of the 3 categories of Narrative Structure (Figure 7 in Segal and Heer). Why?</span>\n"
   ]
  },
  {
   "cell_type": "markdown",
   "metadata": {},
   "source": [
    "\n",
    "## Visualizations\n",
    "\n",
    "<span style=\"color:red\">\n",
    "\n",
    "- Explain the visualizations you've chosen.\n",
    "- Why are they right for the story you want to tell?\n",
    "</span>"
   ]
  },
  {
   "cell_type": "markdown",
   "metadata": {},
   "source": [
    "\n",
    "## Discussion\n",
    "<span style=\"color:red\">\n",
    "Think critically about your creation\n",
    "\n",
    "- What went well?,\n",
    "- What is still missing? What could be improved?, Why? </span>\n"
   ]
  },
  {
   "cell_type": "markdown",
   "metadata": {},
   "source": [
    "\n",
    "## Contributions\n",
    "<span style=\"color:red\">\n",
    " Who did what?\n",
    "\n",
    "- You should write (just briefly) which group member was the main responsible for which elements of the assignment. (I want you guys to understand every part of the assignment, but usually there is someone who took lead role on certain portions of the work. That's what you should explain).\n",
    "- It is not OK simply to write \"All group members contributed equally\". </span>\n"
   ]
  },
  {
   "cell_type": "markdown",
   "metadata": {},
   "source": [
    "<table>\n",
    "    <tr>\n",
    "        <th>Task:/Name:</th>\n",
    "        <th>Lau</th>\n",
    "        <th>Anna</th>\n",
    "        <th>Siv</th>\n",
    "    </tr>\n",
    "    <tr>\n",
    "        <td colspan=4 style=\"text-align: center; border: none;\">Notebook tasks:</td>\n",
    "    </tr>\n",
    "    <tr>\n",
    "        <td style=\"border: 1px solid grey;\">Motivation</td>\n",
    "        <td style=\"border: 1px solid grey;\">   </td>\n",
    "        <td style=\"border: 1px solid grey;\">   </td>\n",
    "        <td style=\"border: 1px solid grey;\">   </td>\n",
    "    </tr>\n",
    "    <tr>\n",
    "        <td style=\"border: 1px solid grey;\">Basic Stats</td>\n",
    "        <td style=\"border: 1px solid grey;\">  </td>\n",
    "        <td style=\"border: 1px solid grey;\">  </td>\n",
    "        <td style=\"border: 1px solid grey;\">  </td>\n",
    "    </tr>\n",
    "    <tr>\n",
    "        <td style=\"border: 1px solid grey;\">Data Analysis (A)</td>\n",
    "        <td style=\"border: 1px solid grey;\">   </td>\n",
    "        <td style=\"border: 1px solid grey;\">   </td>\n",
    "        <td style=\"border: 1px solid grey;\">   </td>\n",
    "    </tr>\n",
    "        <tr>\n",
    "        <td style=\"border: 1px solid grey;\">Data Analysis (B)</td>\n",
    "        <td style=\"border: 1px solid grey;\">   </td>\n",
    "        <td style=\"border: 1px solid grey;\">   </td>\n",
    "        <td style=\"border: 1px solid grey;\">   </td>\n",
    "    </tr>\n",
    "        <tr>\n",
    "        <td style=\"border: 1px solid grey;\"> ...  </td>\n",
    "        <td style=\"border: 1px solid grey;\">   </td>\n",
    "        <td style=\"border: 1px solid grey;\">   </td>\n",
    "        <td style=\"border: 1px solid grey;\">   </td>\n",
    "    </tr>\n",
    "        <tr>\n",
    "        <td style=\"border: 1px solid grey;\"> ...  </td>\n",
    "        <td style=\"border: 1px solid grey;\">   </td>\n",
    "        <td style=\"border: 1px solid grey;\">   </td>\n",
    "        <td style=\"border: 1px solid grey;\">   </td>\n",
    "    </tr>\n",
    "        <tr>\n",
    "        <td style=\"border: 1px solid grey;\">Data Analysis (C)</td>\n",
    "        <td style=\"border: 1px solid grey;\">   </td>\n",
    "        <td style=\"border: 1px solid grey;\">   </td>\n",
    "        <td style=\"border: 1px solid grey;\">   </td>\n",
    "    </tr>\n",
    "        <tr>\n",
    "        <td style=\"border: 1px solid grey;\">Data Analysis (D)</td>\n",
    "        <td style=\"border: 1px solid grey;\">   </td>\n",
    "        <td style=\"border: 1px solid grey;\">   </td>\n",
    "        <td style=\"border: 1px solid grey;\">   </td>\n",
    "    </tr>\n",
    "        <tr>\n",
    "        <td style=\"border: 1px solid grey;\">Genre</td>\n",
    "        <td style=\"border: 1px solid grey;\">   </td>\n",
    "        <td style=\"border: 1px solid grey;\">   </td>\n",
    "        <td style=\"border: 1px solid grey;\">   </td>\n",
    "    </tr>\n",
    "    <tr>\n",
    "        <td style=\"border: 1px solid grey;\">Visualizations</td>\n",
    "        <td style=\"border: 1px solid grey;\">  </td>\n",
    "        <td style=\"border: 1px solid grey;\">  </td>\n",
    "        <td style=\"border: 1px solid grey;\">  </td>\n",
    "    </tr>\n",
    "       <tr>\n",
    "        <td style=\"border: 1px solid grey;\">Discussion</td>\n",
    "        <td style=\"border: 1px solid grey;\">  </td>\n",
    "        <td style=\"border: 1px solid grey;\">  </td>\n",
    "        <td style=\"border: 1px solid grey;\">  </td>\n",
    "    </tr>\n",
    "    <tr>\n",
    "        <td style=\"border: 1px solid grey;\">Proof-reading and layout</td>\n",
    "        <td style=\"border: 1px solid grey;\">&#10003</td>\n",
    "        <td style=\"border: 1px solid grey;\">&#10003</td>\n",
    "        <td style=\"border: 1px solid grey;\">&#10003</td>\n",
    "    </tr>\n",
    "    <tr>\n",
    "        <td colspan=4 style=\"text-align: center; border: none;\">Website tasks:</td>\n",
    "    </tr>\n",
    "      <tr>\n",
    "        <td style=\"border: 1px solid grey;\">0 Introduction</td>\n",
    "        <td style=\"border: 1px solid grey;\">  </td>\n",
    "        <td style=\"border: 1px solid grey;\">  </td>\n",
    "        <td style=\"border: 1px solid grey;\">  </td>\n",
    "    </tr>\n",
    "       <tr>\n",
    "        <td style=\"border: 1px solid grey;\">1 Where do accidents happen?</td>\n",
    "        <td style=\"border: 1px solid grey;\">  </td>\n",
    "        <td style=\"border: 1px solid grey;\">  </td>\n",
    "        <td style=\"border: 1px solid grey;\">  </td>\n",
    "    </tr>\n",
    "      <tr>\n",
    "        <td style=\"border: 1px solid grey;\">1.1 Alcohol and drugs</td>\n",
    "        <td style=\"border: 1px solid grey;\">  </td>\n",
    "        <td style=\"border: 1px solid grey;\">  </td>\n",
    "        <td style=\"border: 1px solid grey;\">  </td>\n",
    "    </tr>\n",
    "       <tr>\n",
    "        <td style=\"border: 1px solid grey;\">2 When do accidents happen?</td>\n",
    "        <td style=\"border: 1px solid grey;\">  </td>\n",
    "        <td style=\"border: 1px solid grey;\">  </td>\n",
    "        <td style=\"border: 1px solid grey;\">  </td>\n",
    "    </tr>\n",
    "       <tr>\n",
    "        <td style=\"border: 1px solid grey;\">3 What causes accidents?</td>\n",
    "        <td style=\"border: 1px solid grey;\">  </td>\n",
    "        <td style=\"border: 1px solid grey;\">  </td>\n",
    "        <td style=\"border: 1px solid grey;\">  </td>\n",
    "    </tr>\n",
    "    <tr>\n",
    "        <td style=\"border: 1px solid grey;\">Proof-reading and layout</td>\n",
    "        <td style=\"border: 1px solid grey;\">&#10003</td>\n",
    "        <td style=\"border: 1px solid grey;\">&#10003</td>\n",
    "        <td style=\"border: 1px solid grey;\">&#10003</td>\n",
    "    </tr>\n",
    "    <tr>\n",
    "        <td colspan=4 style=\"text-align: left; border: none;\"> &#10003 = Main contributor </td>\n",
    "    </tr>\n",
    "    <tr>\n",
    "        <td colspan=4 style=\"text-align: left; border: none;\"> (&#10003) = Secondary contributor </td>\n",
    "    </tr>\n",
    "</table>\n"
   ]
  },
  {
   "cell_type": "markdown",
   "metadata": {},
   "source": [
    "## References\n",
    "\n",
    "<span style=\"color:red\">\n",
    "\n",
    "- Make sure that you use references when they're needed and follow academic standards.</span>"
   ]
  },
  {
   "cell_type": "markdown",
   "metadata": {},
   "source": [
    "[1]   City of Tempe. 1.08 Crash Data Report (detail). https://catalog.data.gov/dataset/1-08-crash-data-report-detail-498c3?fbclid=IwZXh0bgNhZW0CMTAAAR2gojdIAxiOMs5ieTM0OfPH9MRPHGxzhgibobwIDFZ-Q_a3sfCUwDDjulc_aem_AfOI4PVUgDLCxCQPW-KQRHPDK12C9L5KYSnbZi0UdAEu0idNK3ofrogdHd3BliKSjuNfI4PJcuzTLqxwJT-HwPpS. Last accessed on 02-04-2024.\n",
    "\n",
    "[2]   [Author/Owner/Organization]. [Page title]. [url].  Last accessed on DD-MM-YYYY.\n",
    "\n",
    "[3]   [Author/Owner/Organization]. [Page title]. [url].  Last accessed on DD-MM-YYYY.\n",
    "\n",
    "[4]   [Author/Owner/Organization]. [Page title]. [url].  Last accessed on DD-MM-YYYY.\n",
    "\n",
    "[5]   [Author/Owner/Organization]. [Page title]. [url].  Last accessed on DD-MM-YYYY.\n",
    "\n",
    "\n",
    "\n"
   ]
  },
  {
   "cell_type": "code",
   "execution_count": null,
   "metadata": {},
   "outputs": [],
   "source": []
  },
  {
   "cell_type": "code",
   "execution_count": null,
   "metadata": {},
   "outputs": [],
   "source": []
  },
  {
   "cell_type": "code",
   "execution_count": null,
   "metadata": {},
   "outputs": [],
   "source": []
  },
  {
   "cell_type": "code",
   "execution_count": null,
   "metadata": {},
   "outputs": [],
   "source": []
  },
  {
   "cell_type": "code",
   "execution_count": null,
   "metadata": {},
   "outputs": [],
   "source": []
  }
 ],
 "metadata": {
  "language_info": {
   "name": "python"
  }
 },
 "nbformat": 4,
 "nbformat_minor": 2
}
